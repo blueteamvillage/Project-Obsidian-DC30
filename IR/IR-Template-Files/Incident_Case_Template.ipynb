{
 "cells": [
  {
   "cell_type": "markdown",
   "metadata": {},
   "source": [
    "### Incident Case Notes\n",
    "\n",
    "#### Quick Click Reference\n",
    "\n",
    "##### [Running Summary](#Running-Summary)\n",
    "##### [Incident Kickoff Alert/Finding](#incident-kickoff-alertfinding)\n",
    "##### [Data Points of Interest](#data-points-of-interest)\n",
    "##### [Timeline Outline](#timeline-outline)\n",
    "##### [Queries Used](#queries-used)\n",
    "##### [Status Update Notes](#status-update-notes)\n",
    "##### [Links to Files & Evidence](#links-to-files--evidence)\n",
    "##### [Lessons Learned Notes](#lessons-learned-notes)"
   ]
  },
  {
   "cell_type": "markdown",
   "metadata": {},
   "source": [
    "### Running Summary \n"
   ]
  },
  {
   "cell_type": "code",
   "execution_count": null,
   "metadata": {},
   "outputs": [],
   "source": [
    "#Running Summary\n",
    "#Write a sentence or two, a tl;dr, of the current incident. Expect this to change as more information is discovered.\n",
    "\n",
    "\n"
   ]
  },
  {
   "cell_type": "code",
   "execution_count": null,
   "metadata": {},
   "outputs": [],
   "source": [
    "#You can connect your JupyterNotebook to your ticketing or case management tool. Then embed calls to update the ticket from this notebook to reduce swivel. \n",
    "\n",
    "\n"
   ]
  },
  {
   "cell_type": "markdown",
   "metadata": {},
   "source": [
    "[Back to the Top](#quick-click-reference)"
   ]
  },
  {
   "cell_type": "markdown",
   "metadata": {},
   "source": [
    "### Incident Kickoff Alert/Finding\n"
   ]
  },
  {
   "cell_type": "code",
   "execution_count": null,
   "metadata": {},
   "outputs": [],
   "source": [
    "#Incident Kickoff Alert/Finding\n",
    "#Copy the alert title and description or the 'how' the security event was discovered.\n",
    "\n"
   ]
  },
  {
   "cell_type": "code",
   "execution_count": null,
   "metadata": {},
   "outputs": [],
   "source": [
    "#Generating Alert Query\n",
    "#If available include the base query from the alert that escalated to an incident or the search that uncovered the event. \n",
    "\n",
    "\n"
   ]
  },
  {
   "cell_type": "markdown",
   "metadata": {},
   "source": [
    "[Back to the Top](#quick-click-reference)"
   ]
  },
  {
   "cell_type": "markdown",
   "metadata": {},
   "source": [
    "### Data Points of Interest\n"
   ]
  },
  {
   "cell_type": "code",
   "execution_count": null,
   "metadata": {},
   "outputs": [],
   "source": [
    "#Data Points of Interest\n",
    "#Add anything that catches your eye here.\n",
    "\n"
   ]
  },
  {
   "cell_type": "markdown",
   "metadata": {},
   "source": [
    "[Back to the Top](#quick-click-reference)"
   ]
  },
  {
   "cell_type": "markdown",
   "metadata": {},
   "source": [
    "### Timeline Outline\n"
   ]
  },
  {
   "cell_type": "code",
   "execution_count": null,
   "metadata": {},
   "outputs": [],
   "source": [
    "#Timeline Outline\n",
    "#This is intended to be a rough outline of the events. \n",
    "\n"
   ]
  },
  {
   "cell_type": "markdown",
   "metadata": {},
   "source": [
    "[Back to the Top](#quick-click-reference)"
   ]
  },
  {
   "cell_type": "markdown",
   "metadata": {},
   "source": [
    "### Queries Used\n"
   ]
  },
  {
   "cell_type": "code",
   "execution_count": null,
   "metadata": {},
   "outputs": [],
   "source": [
    "#Queries Used\n",
    "#Copy all the queries you run here. All of them.\n",
    "\n"
   ]
  },
  {
   "cell_type": "markdown",
   "metadata": {},
   "source": [
    "[Back to the Top](#quick-click-reference)"
   ]
  },
  {
   "cell_type": "markdown",
   "metadata": {},
   "source": [
    "### Status Update Notes\n"
   ]
  },
  {
   "cell_type": "code",
   "execution_count": null,
   "metadata": {},
   "outputs": [],
   "source": [
    "#Status Update Notes\n",
    "#You can write some code to have these pushed to the ticket/case automagically or just set a timer and copy/paste.\n",
    "\n"
   ]
  },
  {
   "cell_type": "markdown",
   "metadata": {},
   "source": [
    "[Back to the Top](#quick-click-reference)"
   ]
  },
  {
   "cell_type": "markdown",
   "metadata": {},
   "source": [
    "### Links to Files & Evidence\n"
   ]
  },
  {
   "cell_type": "code",
   "execution_count": 1,
   "metadata": {},
   "outputs": [],
   "source": [
    "#Links to Files & Evidence\n",
    "#Copy File Paths of downloaded or exported data. This is more of a checklist so that you don't forget to upload them to the case or ticket later. \n",
    "\n"
   ]
  },
  {
   "cell_type": "markdown",
   "metadata": {},
   "source": [
    "[Back to the Top](#quick-click-reference)"
   ]
  },
  {
   "cell_type": "markdown",
   "metadata": {},
   "source": [
    "### Lessons Learned Notes\n"
   ]
  },
  {
   "cell_type": "code",
   "execution_count": null,
   "metadata": {},
   "outputs": [],
   "source": [
    "#Lessons Learned Notes\n",
    "#Write your feelings on solutions and bandaids needed to prevent this from reoccurring. Just be sure to edit for sanity later.\n",
    "\n"
   ]
  },
  {
   "cell_type": "markdown",
   "metadata": {},
   "source": [
    "[Back to the Top](#quick-click-reference)"
   ]
  }
 ],
 "metadata": {
  "kernelspec": {
   "display_name": "Python 3.10.0 64-bit",
   "language": "python",
   "name": "python3"
  },
  "language_info": {
   "codemirror_mode": {
    "name": "ipython",
    "version": 3
   },
   "file_extension": ".py",
   "mimetype": "text/x-python",
   "name": "python",
   "nbconvert_exporter": "python",
   "pygments_lexer": "ipython3",
   "version": "3.10.0"
  },
  "orig_nbformat": 4,
  "vscode": {
   "interpreter": {
    "hash": "69d692030030b8f429ddb5dfdd925923375df8107f15b1db5ae8aec04b6cf60e"
   }
  }
 },
 "nbformat": 4,
 "nbformat_minor": 2
}
